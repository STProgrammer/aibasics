{
 "cells": [
  {
   "cell_type": "code",
   "execution_count": 18,
   "metadata": {},
   "outputs": [],
   "source": [
    "import random\n",
    "\n",
    "size = 1000\n",
    "\n",
    "def random_string_array(arraysize):\n",
    "    characters = 'abcdefghijklmnopqrstuvwxyz1234567890'\n",
    "    strarray = []\n",
    "    for i in range(arraysize):\n",
    "        strarray.append(''.join(random.choice(characters) for i in range(random.randint(5,10))))\n",
    "    return strarray\n",
    "    \n",
    "strarray = random_string_array(size)\n"
   ]
  },
  {
   "cell_type": "code",
   "execution_count": 19,
   "metadata": {},
   "outputs": [],
   "source": [
    "def bubble_sort(array):\n",
    "    changed = True\n",
    "    while (changed):\n",
    "        changed = False\n",
    "        for i in range(len(array)-1):\n",
    "            if array[i] > array[i+1]:\n",
    "                array[i], array[i+1] = array[i+1], array[i]\n",
    "                changed = True\n",
    "    return array\n",
    "\n"
   ]
  },
  {
   "cell_type": "code",
   "execution_count": 20,
   "metadata": {},
   "outputs": [],
   "source": [
    "def selection_sort(array):\n",
    "    j = 0\n",
    "    min_index = j\n",
    "    length = len(array)\n",
    "    while j < length:\n",
    "        min_index = j\n",
    "        for i in range(j,length):\n",
    "            if array[i] < array[min_index]:\n",
    "                min_index = i\n",
    "        array[j], array[min_index] = array[min_index], array[j]\n",
    "        j = j + 1\n",
    "    return array\n",
    "\n",
    "\n",
    "\n",
    "\n",
    "    \n",
    "    "
   ]
  },
  {
   "cell_type": "code",
   "execution_count": 21,
   "metadata": {},
   "outputs": [
    {
     "name": "stdout",
     "output_type": "stream",
     "text": [
      "135 ms ± 2.06 ms per loop (mean ± std. dev. of 7 runs, 10 loops each)\n"
     ]
    }
   ],
   "source": [
    "%%timeit \n",
    "strarray = random_string_array(size)\n",
    "bubble_sort(strarray)\n"
   ]
  },
  {
   "cell_type": "code",
   "execution_count": 22,
   "metadata": {},
   "outputs": [
    {
     "name": "stdout",
     "output_type": "stream",
     "text": [
      "42.6 ms ± 973 µs per loop (mean ± std. dev. of 7 runs, 10 loops each)\n"
     ]
    }
   ],
   "source": [
    "%%timeit \n",
    "strarray = random_string_array(size)\n",
    "selection_sort(strarray)"
   ]
  },
  {
   "cell_type": "raw",
   "metadata": {},
   "source": [
    "#Oppgave 4) Selection Sort tar lengre tid enn bubble sort, fordi best case for bubble sort er O(N) \n",
    "mens best case for Selection Sort er O(N^2).\n",
    "Selv om listen er helt sortert, så vil Selection sort iterere N*N ganger.\n",
    "Den iterer gjennom lista, og på hver element den itererer for å finne den minste i lista.\n",
    "Bubble sort kan iterere bare en gang og bli ferdig med den. Men i verste fall så må den iterere\n",
    "N*N ganger.\n"
   ]
  },
  {
   "cell_type": "code",
   "execution_count": 32,
   "metadata": {},
   "outputs": [],
   "source": [
    "def merge_sort(array):\n",
    "    length = len(array)\n",
    "    if length > 1:\n",
    "        mid_idx = int(length / 2)\n",
    "        first_part = merge_sort(array[0:mid_idx])\n",
    "        last_part = merge_sort(array[mid_idx:length])\n",
    "        i, j, k = 0, 0, 0\n",
    "        while i < len(first_part) and j < len(last_part):\n",
    "            if first_part[i] > last_part[j]:\n",
    "                array[k] = last_part[j]\n",
    "                j = j + 1\n",
    "                k += 1\n",
    "            else:\n",
    "                array[k] = first_part[i]\n",
    "                i += 1\n",
    "                k += 1\n",
    "        while i < len(first_part):\n",
    "            array[k] = first_part[i]\n",
    "            i += 1\n",
    "            k += 1\n",
    "        while j < len(last_part):\n",
    "            array[k] = last_part[j]\n",
    "            j += 1\n",
    "            k += 1\n",
    "        return array\n",
    "    else:\n",
    "        return array\n",
    "\n",
    "    "
   ]
  },
  {
   "cell_type": "code",
   "execution_count": 25,
   "metadata": {},
   "outputs": [],
   "source": [
    "import sorting\n",
    "\n",
    "\n"
   ]
  },
  {
   "cell_type": "code",
   "execution_count": 26,
   "metadata": {},
   "outputs": [
    {
     "name": "stdout",
     "output_type": "stream",
     "text": [
      "6.68 ms ± 77.7 µs per loop (mean ± std. dev. of 7 runs, 100 loops each)\n"
     ]
    }
   ],
   "source": [
    "%%timeit \n",
    "strarray = random_string_array(1000)\n",
    "sorting.quick(strarray)"
   ]
  },
  {
   "cell_type": "code",
   "execution_count": 27,
   "metadata": {},
   "outputs": [
    {
     "name": "stdout",
     "output_type": "stream",
     "text": [
      "7.98 ms ± 64 µs per loop (mean ± std. dev. of 7 runs, 100 loops each)\n"
     ]
    }
   ],
   "source": [
    "%%timeit \n",
    "strarray = random_string_array(1000)\n",
    "merge_sort(strarray)"
   ]
  },
  {
   "cell_type": "code",
   "execution_count": 28,
   "metadata": {},
   "outputs": [
    {
     "name": "stdout",
     "output_type": "stream",
     "text": [
      "8.11 ms ± 131 µs per loop (mean ± std. dev. of 7 runs, 100 loops each)\n"
     ]
    }
   ],
   "source": [
    "%%timeit \n",
    "strarray = random_string_array(1000)\n",
    "sorting.merge(strarray)"
   ]
  },
  {
   "cell_type": "code",
   "execution_count": 31,
   "metadata": {},
   "outputs": [
    {
     "name": "stdout",
     "output_type": "stream",
     "text": [
      "168 ms ± 1.76 ms per loop (mean ± std. dev. of 7 runs, 10 loops each)\n"
     ]
    }
   ],
   "source": [
    "%%timeit \n",
    "strarray = random_string_array(1000)\n",
    "sorting.bubble(strarray)"
   ]
  },
  {
   "cell_type": "code",
   "execution_count": 30,
   "metadata": {},
   "outputs": [
    {
     "name": "stdout",
     "output_type": "stream",
     "text": [
      "True\n",
      "True\n"
     ]
    }
   ],
   "source": [
    "#teste at metodene fungerer\n",
    "\n",
    "strarray = random_string_array(1000)\n",
    "strarray2 = strarray.copy()\n",
    "strarray = selection_sort(strarray)\n",
    "strarray2 = sorting.merge(strarray2)\n",
    "print(strarray == strarray2)\n",
    "\n",
    "strarray = random_string_array(1000)\n",
    "strarray2 = strarray.copy()\n",
    "strarray = merge_sort(strarray)\n",
    "strarray2 = sorting.merge(strarray2)\n",
    "print(strarray == strarray2)\n"
   ]
  },
  {
   "cell_type": "code",
   "execution_count": null,
   "metadata": {},
   "outputs": [],
   "source": []
  }
 ],
 "metadata": {
  "kernelspec": {
   "display_name": "Python 3",
   "language": "python",
   "name": "python3"
  },
  "language_info": {
   "codemirror_mode": {
    "name": "ipython",
    "version": 3
   },
   "file_extension": ".py",
   "mimetype": "text/x-python",
   "name": "python",
   "nbconvert_exporter": "python",
   "pygments_lexer": "ipython3",
   "version": "3.8.5"
  }
 },
 "nbformat": 4,
 "nbformat_minor": 4
}
