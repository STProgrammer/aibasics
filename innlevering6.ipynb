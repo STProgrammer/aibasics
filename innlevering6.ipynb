{
 "cells": [
  {
   "cell_type": "raw",
   "metadata": {},
   "source": [
    "The following dict represents a number of fictional planets. Each key in the dict is the name of a planet, while the value, in this case another dict, represents planets you can travel to from this planets. The values inside the inner dicts represents the fuel cost associated with travelling to these planets. You want to optimize the fuel cost when travelling between planets, and so you turn to Dijkstra's algorithm."
   ]
  },
  {
   "cell_type": "code",
   "execution_count": 1,
   "metadata": {},
   "outputs": [],
   "source": [
    "graph = {\n",
    "    'aranos': {'barlow': 14, 'daxx': 7, 'yeedil': 9},\n",
    "    'boldan': {'barlow': 9, 'oozla': 6},\n",
    "    'barlow': {'aranos': 14, 'boldan': 9, 'yeedil': 2},\n",
    "    'daxx': {'aranos': 7, 'yeedil': 10, 'oozla': 16},\n",
    "    'yeedil': {'aranos': 9, 'barlow': 2, 'daxx': 10, 'oozla': 11},\n",
    "    'oozla': {'boldan': 6, 'daxx': 15, 'yeedil': 11},\n",
    "}"
   ]
  },
  {
   "cell_type": "raw",
   "metadata": {},
   "source": [
    "Write a function that uses Dijkstra's algorithm to find the shortest path between 2 nodes in a graph represented by a dict of dicts. Using your function, print the shortest path(nodes visited) and cost between:\n",
    "a) from Aranos to Boldan\n",
    "b) from Barlow to Aranos\n",
    "c) from Daxx to Boldan"
   ]
  },
  {
   "cell_type": "code",
   "execution_count": 2,
   "metadata": {},
   "outputs": [],
   "source": [
    "#This is almost same as what's implemented in  https://www.redblobgames.com/pathfinding/a-star/implementation.html\n",
    "#But we use PriorityQueue from queue and use tuples here\n",
    "def dijkstra_search(graph, start, goal):\n",
    "    from queue import PriorityQueue\n",
    "    \n",
    "    if start not in graph or goal not in graph:\n",
    "        print(\"start or goal node not in graph\")\n",
    "        return\n",
    "    \n",
    "    openSet = PriorityQueue()\n",
    "    openSet.put((0,start))  \n",
    "    came_from: Dict[node, node] = {}\n",
    "    cost_so_far: Dict[node, int] = {}\n",
    "    came_from[start] = None\n",
    "    cost_so_far[start] = 0\n",
    "    \n",
    "    while not openSet.empty():\n",
    "        current = openSet.get()[1]\n",
    "        \n",
    "        if current == goal:\n",
    "            break\n",
    "        \n",
    "        for next in graph[current]:\n",
    "            new_cost = cost_so_far[current] + graph[current][next]\n",
    "            if next not in cost_so_far or new_cost < cost_so_far[next]:\n",
    "                    cost_so_far[next] = new_cost\n",
    "                    came_from[next] = current\n",
    "                    openSet.put((new_cost, next))\n",
    "\n",
    "    path = list()\n",
    "    path.append(goal)\n",
    "    prev = goal\n",
    "    while prev != start:\n",
    "        prev = came_from[prev]\n",
    "        path.append(prev)\n",
    "    \n",
    "    length = len(path) - 1\n",
    "\n",
    "    for i in range(length, 0, -1):\n",
    "        print(path[i], \"--> \", end=\"\")\n",
    "    print(path[0], \". Total cost: \", cost_so_far[goal])"
   ]
  },
  {
   "cell_type": "code",
   "execution_count": 3,
   "metadata": {},
   "outputs": [
    {
     "name": "stdout",
     "output_type": "stream",
     "text": [
      "aranos --> yeedil --> barlow --> boldan . Total cost:  20\n",
      "barlow --> yeedil --> aranos . Total cost:  11\n",
      "daxx --> yeedil --> barlow --> boldan . Total cost:  21\n"
     ]
    }
   ],
   "source": [
    "dijkstra_search(graph, 'aranos', 'boldan')\n",
    "dijkstra_search(graph, 'barlow', 'aranos')\n",
    "dijkstra_search(graph, 'daxx', 'boldan')"
   ]
  },
  {
   "cell_type": "code",
   "execution_count": 4,
   "metadata": {},
   "outputs": [],
   "source": [
    "def dijkstra_search2(graph, start, goal):\n",
    "    from queue import PriorityQueue\n",
    "    \n",
    "    if start not in graph or goal not in graph:\n",
    "        print(\"start or goal node not in graph\")\n",
    "        return\n",
    "    \n",
    "    openSet = PriorityQueue()\n",
    "    openSet.put((0, start))\n",
    "    came_from: Dict[node, node] = {}\n",
    "    cost_so_far: Dict[node, int] = {}\n",
    "    came_from[start] = None\n",
    "    cost_so_far[start] = 0\n",
    "    \n",
    "    while not openSet.empty():\n",
    "        current = openSet.get()[1]\n",
    "  \n",
    "        for next in graph[current]:\n",
    "            new_cost = cost_so_far[current] + graph[current][next]\n",
    "            if next not in cost_so_far:\n",
    "                cost_so_far[next] = new_cost\n",
    "                came_from[next] = current\n",
    "                openSet.put((new_cost, next))\n",
    "            elif cost_so_far[next] > new_cost:\n",
    "                cost_so_far[next] = new_cost\n",
    "                came_from[next] = current\n",
    "                openSet.put((new_cost, next))\n",
    "\n",
    "    path = list()\n",
    "    path.append(goal)\n",
    "    prev = goal\n",
    "    while prev != start:\n",
    "        prev = came_from[prev]\n",
    "        path.append(prev)\n",
    "    \n",
    "    length = len(path) - 1\n",
    "\n",
    "    for i in range(length, 0, -1):\n",
    "        print(path[i], \"--> \", end=\"\")\n",
    "    print(path[0], \". Total cost: \", cost_so_far[goal])"
   ]
  },
  {
   "cell_type": "code",
   "execution_count": 63,
   "metadata": {},
   "outputs": [
    {
     "name": "stdout",
     "output_type": "stream",
     "text": [
      "aranos --> yeedil --> barlow --> boldan . Total cost:  20\n",
      "barlow --> yeedil --> aranos . Total cost:  11\n",
      "daxx --> yeedil --> barlow --> boldan . Total cost:  21\n"
     ]
    }
   ],
   "source": [
    "dijkstra_search2(graph, 'aranos', 'boldan')\n",
    "dijkstra_search2(graph, 'barlow', 'aranos')\n",
    "dijkstra_search2(graph, 'daxx', 'boldan')"
   ]
  },
  {
   "cell_type": "code",
   "execution_count": null,
   "metadata": {},
   "outputs": [],
   "source": []
  }
 ],
 "metadata": {
  "kernelspec": {
   "display_name": "Python 3",
   "language": "python",
   "name": "python3"
  },
  "language_info": {
   "codemirror_mode": {
    "name": "ipython",
    "version": 3
   },
   "file_extension": ".py",
   "mimetype": "text/x-python",
   "name": "python",
   "nbconvert_exporter": "python",
   "pygments_lexer": "ipython3",
   "version": "3.8.5"
  }
 },
 "nbformat": 4,
 "nbformat_minor": 4
}
