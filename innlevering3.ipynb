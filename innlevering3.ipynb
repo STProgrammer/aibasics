{
 "cells": [
  {
   "cell_type": "raw",
   "metadata": {},
   "source": [
    "1: Filen \"Personer.dta\" skal leses inn i en list persons. Filen inneholder 100 000 rader med fiktive personalia på formatet \"etternavn;fornavn;adresse;postnummer;poststed\". Dette skal gjøres i native Python, dvs. Numpy/Pandas eller andre libs skal ikke brukes. Legg hver rad inn i en passende datastruktur, feks. tuple, dict, list eller namedtuple. Skriv så ut de 5 siste radene i en celle."
   ]
  },
  {
   "cell_type": "code",
   "execution_count": 2,
   "metadata": {},
   "outputs": [],
   "source": [
    "persons_file = open(\"Personer.dta\", 'r')\n",
    "content = persons_file.read()\n",
    "content = content.splitlines()\n",
    "\n",
    "personlist = [x.split(';') for x in content]\n",
    "\n",
    "persons_file.close()\n",
    "\n",
    "#Copy to test later\n",
    "personlist2 = personlist.copy()\n",
    "\n",
    "    "
   ]
  },
  {
   "cell_type": "raw",
   "metadata": {},
   "source": [
    "2: Hvor mange unike postnummer finnes i \"Personer.dta\"?"
   ]
  },
  {
   "cell_type": "code",
   "execution_count": 3,
   "metadata": {},
   "outputs": [
    {
     "name": "stdout",
     "output_type": "stream",
     "text": [
      "2824\n"
     ]
    }
   ],
   "source": [
    "postalcodes = set()\n",
    "\n",
    "#Get all postal codes into a set since set only keep unique values\n",
    "#index 3 is where postal codes are\n",
    "for person in personlist:\n",
    "    postalcodes.add(person[3])\n",
    "\n",
    "#size of the set equals number of unique postal codes\n",
    "unique_postalcodes = len(postalcodes)\n",
    "print(unique_postalcodes)\n",
    "    "
   ]
  },
  {
   "cell_type": "raw",
   "metadata": {},
   "source": [
    "3: Hva er de 10 vanligste etternavnene (som forekommer flest ganger) i \"Personer.dta\"?"
   ]
  },
  {
   "cell_type": "code",
   "execution_count": 4,
   "metadata": {},
   "outputs": [
    {
     "name": "stdout",
     "output_type": "stream",
     "text": [
      "Ten lastnames that appear most frequently are:\n",
      "ÅSBAKK\n",
      "frequency: 83 \n",
      "\n",
      "BERGERSEN\n",
      "frequency: 78 \n",
      "\n",
      "DANIELSEN\n",
      "frequency: 77 \n",
      "\n",
      "LUTHER\n",
      "frequency: 77 \n",
      "\n",
      "TRANE\n",
      "frequency: 77 \n",
      "\n",
      "LUNDBERGSEN\n",
      "frequency: 77 \n",
      "\n",
      "MJØEN\n",
      "frequency: 76 \n",
      "\n",
      "LAM\n",
      "frequency: 75 \n",
      "\n",
      "KRANGSÅS\n",
      "frequency: 75 \n",
      "\n",
      "IGLAND\n",
      "frequency: 75 \n",
      "\n",
      "['ÅSBAKK', 'BERGERSEN', 'DANIELSEN', 'LUTHER', 'TRANE', 'LUNDBERGSEN', 'MJØEN', 'LAM', 'KRANGSÅS', 'IGLAND']\n"
     ]
    }
   ],
   "source": [
    "lastnames = dict()\n",
    "\n",
    "\n",
    "for person in personlist:\n",
    "    if person[0] in lastnames:\n",
    "        #if the value in the dict, increase the number to count occurrences\n",
    "        lastnames[person[0]] += 1\n",
    "    else:\n",
    "        #if value is not in the dict, add the name as the key with value 1\n",
    "        lastnames[person[0]] = 1\n",
    "\n",
    "ten_frequent_lastnames = list()\n",
    "\n",
    "#printing the top ten\n",
    "print('Ten lastnames that appear most frequently are:')\n",
    "for i in range(10):\n",
    "    maximum = max(lastnames, key=lastnames.get)\n",
    "    ten_frequent_lastnames.append(maximum)\n",
    "    print(maximum)\n",
    "    print('frequency:', lastnames[maximum], '\\n')\n",
    "    del(lastnames[maximum])\n",
    "\n",
    "print(ten_frequent_lastnames)\n",
    "    "
   ]
  },
  {
   "cell_type": "raw",
   "metadata": {},
   "source": [
    "4: Implementer sorteringsalgoritmen Heap Sort og sorter listen \"persons\" utfra rekkefølgen radene er lest inn i. Ferdig implementerte funksjoner som sorted skal ikke benyttes. Skriv så ut indexene [0,20000,40000,60000,80000] fra den sorterte listen."
   ]
  },
  {
   "cell_type": "code",
   "execution_count": 5,
   "metadata": {},
   "outputs": [
    {
     "name": "stdout",
     "output_type": "stream",
     "text": [
      "['AAKVIK', 'ANETTE', 'BAKLIEN 11', '1360', 'NESBRU']\n",
      "['ENGVOLL', 'TOM MIKAEL', 'KVAM ST 48', '1804', 'SPYDEBERG']\n",
      "['JERMOSEN', 'ÅGE RAYMOND', 'HATLEBAKKANE 6', '5236', 'RÅDAL']\n",
      "['MYRLUND', 'GAUTE', 'DYNESTØL 89', '7494', 'SINGSÅS']\n",
      "['SMITH', 'ARNT OLE', 'SAPPEN 39', '5852', 'BERGEN']\n"
     ]
    },
    {
     "data": {
      "text/plain": [
       "'\\nwith open(\\'Persons.txt\\', \\'w\\') as f:\\n    for item in personlist:\\n        f.write(\"%s\\n\" % item)\\n'"
      ]
     },
     "execution_count": 5,
     "metadata": {},
     "output_type": "execute_result"
    }
   ],
   "source": [
    "#HeapSort med siftup og siftdown\n",
    "\n",
    "#get a node, and move it to the top (to the root) as much as possible\n",
    "def siftup(array, i, end=0):\n",
    "    while i > end:\n",
    "        par = (i - 1) // 2\n",
    "        #if bigger than parent then swap\n",
    "        if array[par] < array[i]:\n",
    "            array[par], array[i] = array[i], array[par]\n",
    "            i = par\n",
    "        else:\n",
    "            return\n",
    "    \n",
    "\n",
    "#move a node down as much as possible\n",
    "def siftdown(array, i, end):\n",
    "    #get left and right nodes\n",
    "    l = i * 2 + 1\n",
    "    r = l + 1\n",
    "    while l <= end:\n",
    "        l = i * 2 + 1\n",
    "        r = l + 1\n",
    "        #swap is variable to track which child to swap with\n",
    "        swap = i\n",
    "        if array[l] > array[i]:\n",
    "            swap = l\n",
    "        if r <= end and array[r] > array[swap]:\n",
    "            swap = r\n",
    "        if swap != i:\n",
    "            #swap the nodes\n",
    "            array[swap], array[i] = array[i], array[swap]\n",
    "            i = swap\n",
    "        else:\n",
    "            return\n",
    "        #get left and right nodes\n",
    "        l = i * 2 + 1\n",
    "        r = l + 1\n",
    "    \n",
    "    \n",
    "#Function to build a binary heap\n",
    "def heapify_persons(array, i=0):\n",
    "    #return if only one node\n",
    "    if len(array) == 0:\n",
    "        return\n",
    "    \n",
    "    #get the end index\n",
    "    end = len(array) - 1\n",
    "    #first left child of the root\n",
    "    i = 1\n",
    "    \n",
    "    #keep track of the largest node\n",
    "    while i <= end:\n",
    "        siftup(array, i)\n",
    "        i = i + 1\n",
    "\n",
    "\n",
    "#heap sort function\n",
    "def heap_sort(array):\n",
    "    heapify_persons(array)\n",
    "    end = len(array)-1\n",
    "    while end > 0:\n",
    "        array[0], array[end] = array[end], array[0]\n",
    "        end = end - 1\n",
    "        siftdown(array, 0, end)\n",
    "\n",
    "\n",
    "heap_sort(personlist)\n",
    "\n",
    "print(personlist[0])\n",
    "print(personlist[20000])\n",
    "print(personlist[40000])\n",
    "print(personlist[60000])\n",
    "print(personlist[80000])\n",
    "\n",
    "'''\n",
    "with open('Persons.txt', 'w') as f:\n",
    "    for item in personlist:\n",
    "        f.write(\"%s\\n\" % item)\n",
    "'''"
   ]
  },
  {
   "cell_type": "code",
   "execution_count": 6,
   "metadata": {},
   "outputs": [
    {
     "name": "stdout",
     "output_type": "stream",
     "text": [
      "False\n",
      "True\n"
     ]
    }
   ],
   "source": [
    "#This is to test if sorted correctly at the end\n",
    "\n",
    "#before the copy is sorted\n",
    "print(personlist2 == personlist)\n",
    "\n",
    "personlist2 = sorted(personlist2)\n",
    "\n",
    "#after the copy is sorted\n",
    "print(personlist == personlist2)"
   ]
  },
  {
   "cell_type": "code",
   "execution_count": 7,
   "metadata": {},
   "outputs": [
    {
     "name": "stdout",
     "output_type": "stream",
     "text": [
      "['AAKVIK', 'ANNE-MARIT', 'RISØYVEGEN 17', '1705', 'SARPSBORG'] \n",
      " ['ØYFOSS', 'WERNER STENVOLD', 'KIRKVOLL 28', '5935', 'LAVIK']\n"
     ]
    }
   ],
   "source": [
    "print(personlist2[1], '\\n', personlist2[-2])"
   ]
  },
  {
   "cell_type": "code",
   "execution_count": null,
   "metadata": {},
   "outputs": [],
   "source": []
  },
  {
   "cell_type": "code",
   "execution_count": null,
   "metadata": {},
   "outputs": [],
   "source": []
  },
  {
   "cell_type": "code",
   "execution_count": null,
   "metadata": {},
   "outputs": [],
   "source": []
  }
 ],
 "metadata": {
  "kernelspec": {
   "display_name": "Python 3",
   "language": "python",
   "name": "python3"
  },
  "language_info": {
   "codemirror_mode": {
    "name": "ipython",
    "version": 3
   },
   "file_extension": ".py",
   "mimetype": "text/x-python",
   "name": "python",
   "nbconvert_exporter": "python",
   "pygments_lexer": "ipython3",
   "version": "3.8.5"
  }
 },
 "nbformat": 4,
 "nbformat_minor": 4
}
