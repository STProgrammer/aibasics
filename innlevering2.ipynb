{
 "cells": [
  {
   "cell_type": "raw",
   "metadata": {},
   "source": [
    "1: Lag en Iterator Class som kan skrive ut Fibonacci-tallene mellom 0 og 1000"
   ]
  },
  {
   "cell_type": "code",
   "execution_count": 15,
   "metadata": {},
   "outputs": [
    {
     "name": "stdout",
     "output_type": "stream",
     "text": [
      "[0, 1, 1, 2, 3, 5, 8, 13, 21, 34, 55, 89, 144, 233, 377, 610, 987]\n"
     ]
    }
   ],
   "source": [
    "class FibonacciIterator:\n",
    "    def __init__(self, end, num1 = 0, num2 = 1):\n",
    "        self.num1 = num1\n",
    "        self.num2 = num2\n",
    "        self.max = end\n",
    "\n",
    "    def __iter__(self):\n",
    "        return self\n",
    "\n",
    "\n",
    "    def __next__(self):\n",
    "        if self.num1 <= self.max:\n",
    "            temp = self.num1\n",
    "            self.num1, self.num2 = self.num2, self.num1 + self.num2\n",
    "            return temp\n",
    "        else:\n",
    "            raise StopIteration\n",
    "\n",
    "\n",
    "print(list(FibonacciIterator(1000)))"
   ]
  },
  {
   "cell_type": "raw",
   "metadata": {},
   "source": [
    "[0, 1, 1, 2, 3, 5, 8, 13, 21, 34, 55, 89, 144, 233, 377, 610, 987] #forventet output for oppgave 1"
   ]
  },
  {
   "cell_type": "raw",
   "metadata": {},
   "source": [
    "2: Lag en Generator Function som skriver ut Fibonacci-tallene mellom 0 og 1000"
   ]
  },
  {
   "cell_type": "code",
   "execution_count": 2,
   "metadata": {},
   "outputs": [
    {
     "name": "stdout",
     "output_type": "stream",
     "text": [
      "[0, 1, 1, 2, 3, 5, 8, 13, 21, 34, 55, 89, 144, 233, 377, 610, 987]\n"
     ]
    }
   ],
   "source": [
    "def fibonacci_gen(end):\n",
    "    num1 = 0\n",
    "    num2 = 1\n",
    "    while num1 < end:\n",
    "        yield num1\n",
    "        temp = num1\n",
    "        num1 = num2\n",
    "        num2 = temp + num2\n",
    "    \n",
    "print(list(fibonacci_gen(1000)))\n",
    "    \n",
    "    \n",
    "    "
   ]
  },
  {
   "cell_type": "raw",
   "metadata": {},
   "source": [
    "[0, 1, 1, 2, 3, 5, 8, 13, 21, 34, 55, 89, 144, 233, 377, 610, 987] #forventet output for oppgave 2"
   ]
  },
  {
   "cell_type": "raw",
   "metadata": {},
   "source": [
    "3: Lag en Class NewInt som arver fra int. Den skal ha en Instance Method is_fibonacci() som returnerer True om tallet er et Fibonacci-tall, False hvis ikke. Generer en liste med NewInt fra 0 til 1000. Lag så en List Comprehension som kun beholder tallene som er Fibonacci ved hjelp av klassen og instansmetoden du lagde."
   ]
  },
  {
   "cell_type": "code",
   "execution_count": 3,
   "metadata": {},
   "outputs": [
    {
     "name": "stdout",
     "output_type": "stream",
     "text": [
      "[0, 1, 2, 3, 5, 8, 13, 21, 34, 55, 89, 144, 233, 377, 610, 987]\n",
      "[0, 1, 2, 3, 5, 8, 13, 21, 34, 55, 89, 144, 233, 377, 610, 987]\n"
     ]
    }
   ],
   "source": [
    "import math\n",
    "\n",
    "class NewInt(int):\n",
    "    def is_fibonacci(self):\n",
    "        x = 0\n",
    "        y = 1\n",
    "        while x <= self and x != self:\n",
    "            z = x\n",
    "            x = y\n",
    "            y = z + y\n",
    "        return x == self\n",
    "    \n",
    "    #Jeg har laget to funksjoner, fordi den andre trenger import av modul \"math\"\n",
    "    def is_fibonacci_2(self):\n",
    "        if self == 0: \n",
    "            return True\n",
    "        else:\n",
    "            x = self\n",
    "            test1 = math.sqrt(5*x**2 + 4).is_integer() #formel for å sjekke om tall er fibonacci\n",
    "            test2 = math.sqrt(5*x**2 - 4).is_integer()  \n",
    "            return (test1 or test2)\n",
    "        \n",
    "numbers = [NewInt(x) for x in range(1001)]\n",
    "\n",
    "fib_numbers = [number for number in numbers if number.is_fibonacci()]\n",
    "\n",
    "print(fib_numbers)\n",
    "\n",
    "fib_numbers = [number for number in numbers if number.is_fibonacci_2()]\n",
    "\n",
    "print(fib_numbers)"
   ]
  },
  {
   "cell_type": "raw",
   "metadata": {},
   "source": [
    "[0, 1, 2, 3, 5, 8, 13, 21, 34, 55, 89, 144, 233, 377, 610, 987] #forventet output for oppgave 3"
   ]
  },
  {
   "cell_type": "raw",
   "metadata": {},
   "source": [
    "4: Lag en liste int_list med NewInt fra 0 til 100 000. Lag deretter et set() fib_set med Fibonacci-tallene mellom 0 og 100 000 med fremgangsmåte du selv velger. Lag en List Comprehension som sjekker int_list mot fib_set. Sammenlign deretter performance mot klassen og metoden du lagde i oppgave 3 for å se hva som er raskest.  Tips: Sjekk performance med %%timeit i en notebook-celle."
   ]
  },
  {
   "cell_type": "code",
   "execution_count": 4,
   "metadata": {},
   "outputs": [
    {
     "name": "stdout",
     "output_type": "stream",
     "text": [
      "[0, 1, 2, 3, 5, 8, 13, 21, 34, 55, 89, 144, 233, 377, 610, 987, 1597, 2584, 4181, 6765, 10946, 17711, 28657, 46368, 75025]\n"
     ]
    }
   ],
   "source": [
    "int_list = [x for x in range(1000001)]\n",
    "\n",
    "fib_set = set(FibonacciIterator(100000))\n",
    "\n",
    "fib_num_list = [x for x in int_list if x in fib_set]\n",
    "\n",
    "print(fib_num_list)\n",
    "numbers = [NewInt(x) for x in range(100001)]\n"
   ]
  },
  {
   "cell_type": "code",
   "execution_count": 5,
   "metadata": {},
   "outputs": [
    {
     "name": "stdout",
     "output_type": "stream",
     "text": [
      "43.5 ms ± 933 µs per loop (mean ± std. dev. of 7 runs, 10 loops each)\n"
     ]
    }
   ],
   "source": [
    "%%timeit \n",
    "fib_num_list = [x for x in int_list if x in fib_set]"
   ]
  },
  {
   "cell_type": "code",
   "execution_count": 6,
   "metadata": {},
   "outputs": [
    {
     "name": "stdout",
     "output_type": "stream",
     "text": [
      "240 ms ± 4.44 ms per loop (mean ± std. dev. of 7 runs, 1 loop each)\n"
     ]
    }
   ],
   "source": [
    "%%timeit\n",
    "fib_numbers = [number for number in numbers if number.is_fibonacci()]"
   ]
  },
  {
   "cell_type": "code",
   "execution_count": 7,
   "metadata": {},
   "outputs": [
    {
     "name": "stdout",
     "output_type": "stream",
     "text": [
      "111 ms ± 1.92 ms per loop (mean ± std. dev. of 7 runs, 10 loops each)\n"
     ]
    }
   ],
   "source": [
    "%%timeit\n",
    "fib_numbers = [number for number in numbers if number.is_fibonacci_2()]"
   ]
  },
  {
   "cell_type": "raw",
   "metadata": {},
   "source": [
    "#Metoden på oppgave 4 er raskere enn metoden på oppgave 3\n",
    "Ikke bare det, men å bruke formelen på å finne Fibonacci tall med funksjonen is_fibonacci2\n",
    "er raskere enn å den første funksjonen med et naivt algoritme (sjekke en hver tall om den er fibonacci eller ikke).\n",
    "\n",
    "Grunnen til metoden på oppgave 4 er raskere, er at den søker etter et tall inn i en set. Hvis den ikke\n",
    "finner tallet, så er det ikke fibonacci tall. Der brukes en søke-algoritme i en set.\n",
    "Mens på metodene i oppgave 3 så brukes det matematiske operasjoner for å finne om et tall er fibonacci eller ikke.\n"
   ]
  },
  {
   "cell_type": "code",
   "execution_count": null,
   "metadata": {},
   "outputs": [],
   "source": []
  },
  {
   "cell_type": "code",
   "execution_count": null,
   "metadata": {},
   "outputs": [],
   "source": []
  }
 ],
 "metadata": {
  "kernelspec": {
   "display_name": "Python 3",
   "language": "python",
   "name": "python3"
  },
  "language_info": {
   "codemirror_mode": {
    "name": "ipython",
    "version": 3
   },
   "file_extension": ".py",
   "mimetype": "text/x-python",
   "name": "python",
   "nbconvert_exporter": "python",
   "pygments_lexer": "ipython3",
   "version": "3.8.5"
  }
 },
 "nbformat": 4,
 "nbformat_minor": 4
}
